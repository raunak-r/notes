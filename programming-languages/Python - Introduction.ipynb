{
 "cells": [
  {
   "cell_type": "markdown",
   "metadata": {},
   "source": [
    "# <center>**Python Introduction**</center>"
   ]
  },
  {
   "cell_type": "markdown",
   "metadata": {},
   "source": [
    "### 1. Basic Calculations and assignment:"
   ]
  },
  {
   "cell_type": "code",
   "execution_count": 1,
   "metadata": {},
   "outputs": [
    {
     "name": "stdout",
     "output_type": "stream",
     "text": [
      "Addition: 2+2 =  4\n",
      "Subtraction: 4-5 =  -1\n",
      "Multiplication: 6*8 =  48\n",
      "Division: 5/3 =  1.6666666666666667\n",
      "Modulo: 5%3 =  2\n"
     ]
    }
   ],
   "source": [
    "# Addition:\n",
    "print('Addition: 2+2 = ', 2+2)\n",
    "\n",
    "# Subtraction:\n",
    "print('Subtraction: 4-5 = ', 4-5)\n",
    "\n",
    "# Multiplication:\n",
    "print('Multiplication: 6*8 = ', 6*8)\n",
    "\n",
    "# Division:\n",
    "print('Division: 5/3 = ',5/3)\n",
    "\n",
    "# Modulo:\n",
    "print('Modulo: 5%3 = ',5%3)"
   ]
  },
  {
   "cell_type": "code",
   "execution_count": 2,
   "metadata": {},
   "outputs": [
    {
     "name": "stdout",
     "output_type": "stream",
     "text": [
      "a = 1:   1\n",
      "a += 1:  2\n",
      "a *= 4:  8\n"
     ]
    }
   ],
   "source": [
    "# Increment and assign:\n",
    "a = 1\n",
    "print('a = 1:  ',1)\n",
    "a +=1\n",
    "print('a += 1: ', a)\n",
    "a *= 4\n",
    "print('a *= 4: ',a)"
   ]
  },
  {
   "cell_type": "markdown",
   "metadata": {},
   "source": [
    "### 2. Primary Datatypes:"
   ]
  },
  {
   "cell_type": "code",
   "execution_count": 3,
   "metadata": {},
   "outputs": [
    {
     "name": "stdout",
     "output_type": "stream",
     "text": [
      "Type of a = 1:  <class 'int'>\n",
      "Type of a = 1.0:  <class 'float'>\n",
      "Type of a = True:  <class 'bool'>\n",
      "Type of a = \"1\":  <class 'str'>\n"
     ]
    }
   ],
   "source": [
    "# Numeric\n",
    "a = 1\n",
    "print('Type of a = 1: ',type(a))\n",
    "a = 1.0\n",
    "print('Type of a = 1.0: ',type(a))\n",
    "\n",
    "# Boolean\n",
    "a = True\n",
    "print('Type of a = True: ',type(a))\n",
    "\n",
    "# String\n",
    "a = \"1\"\n",
    "print('Type of a = \"1\": ',type(a))"
   ]
  },
  {
   "cell_type": "markdown",
   "metadata": {},
   "source": [
    "### 3. Secondary Datatypes:\n",
    "\n",
    "- List: List in Python is a heterogeneous container for items.\n",
    "- Tuple: Tuple is a heterogeneous container for items. \n",
    "- Dictonary: Dictionary holds key-value pairs. However, you may not use an unhashable item as a key.\n",
    "- Set: Set, in Python, is just like the mathematical set. It does not hold duplicate values and is unordered. However, it is not immutable.\n",
    "\n",
    "Note:\n",
    "But the major difference between the two (tuple and list) is that a list is mutable, but a tuple is immutable. \n",
    "This means that while you can reassign or delete an entire tuple, you cannot do the same to a single item or a slice.\n"
   ]
  },
  {
   "cell_type": "markdown",
   "metadata": {},
   "source": [
    "#### Creating Lists, Tuples & Dictionaries"
   ]
  },
  {
   "cell_type": "code",
   "execution_count": 4,
   "metadata": {},
   "outputs": [
    {
     "name": "stdout",
     "output_type": "stream",
     "text": [
      "List:  [1, '1', True] <class 'list'>\n",
      "Tuple:  (1, '1', True) <class 'tuple'>\n",
      "Dictionary:  {1: 1, 2: '1', '3': True} <class 'dict'>\n",
      "Set:  {1, 2, 3, 4, 5} <class 'set'>\n"
     ]
    }
   ],
   "source": [
    "my_list = [1,'1',True]\n",
    "print('List: ',my_list, type(my_list))\n",
    "\n",
    "my_tuple = (1,'1',True)\n",
    "print('Tuple: ',my_tuple, type(my_tuple))\n",
    "\n",
    "my_dictonary = {1: 1,\n",
    "                2: '1',\n",
    "                '3':True}\n",
    "print('Dictionary: ',my_dictonary, type(my_dictonary))\n",
    "\n",
    "my_set = {1,1,2,2,3,5,4}\n",
    "print('Set: ', my_set,type(my_set))"
   ]
  },
  {
   "cell_type": "markdown",
   "metadata": {},
   "source": [
    "#### Indexing and slicing:"
   ]
  },
  {
   "cell_type": "code",
   "execution_count": 5,
   "metadata": {},
   "outputs": [
    {
     "name": "stdout",
     "output_type": "stream",
     "text": [
      "Original list:  [1, [2, 3], (4, 5), False, 'No']\n",
      "Positive Indexing [1]:  [2, 3]\n",
      "Negative Indexing [-2]:  False\n",
      "Slicing [1:4]:  [[2, 3], (4, 5), False]\n",
      "Negative Indexing & Slicing [:-2]: [1, [2, 3], (4, 5)]\n",
      "Matches the exact key ['3']:  True\n"
     ]
    },
    {
     "ename": "KeyError",
     "evalue": "3",
     "output_type": "error",
     "traceback": [
      "\u001b[0;31m---------------------------------------------------------------------------\u001b[0m",
      "\u001b[0;31mKeyError\u001b[0m                                  Traceback (most recent call last)",
      "\u001b[0;32m<ipython-input-5-f9e8a5faffb9>\u001b[0m in \u001b[0;36m<module>\u001b[0;34m()\u001b[0m\n\u001b[1;32m     15\u001b[0m \u001b[0;31m# Dictionary Referencing:\u001b[0m\u001b[0;34m\u001b[0m\u001b[0;34m\u001b[0m\u001b[0m\n\u001b[1;32m     16\u001b[0m \u001b[0mprint\u001b[0m\u001b[0;34m(\u001b[0m\u001b[0;34m\"Matches the exact key ['3']: \"\u001b[0m\u001b[0;34m,\u001b[0m\u001b[0mmy_dictonary\u001b[0m\u001b[0;34m[\u001b[0m\u001b[0;34m'3'\u001b[0m\u001b[0;34m]\u001b[0m\u001b[0;34m)\u001b[0m\u001b[0;34m\u001b[0m\u001b[0m\n\u001b[0;32m---> 17\u001b[0;31m \u001b[0mprint\u001b[0m\u001b[0;34m(\u001b[0m\u001b[0;34m'Matches the exact key [3]: '\u001b[0m\u001b[0;34m,\u001b[0m\u001b[0mmy_dictonary\u001b[0m\u001b[0;34m[\u001b[0m\u001b[0;36m3\u001b[0m\u001b[0;34m]\u001b[0m\u001b[0;34m)\u001b[0m\u001b[0;34m\u001b[0m\u001b[0m\n\u001b[0m",
      "\u001b[0;31mKeyError\u001b[0m: 3"
     ]
    }
   ],
   "source": [
    "my_list = [1,[2,3],(4,5),False,'No']\n",
    "print('Original list: ',my_list)\n",
    "# Positive Indexing:\n",
    "print('Positive Indexing [1]: ',my_list[1])\n",
    "\n",
    "# Negative Indexing:\n",
    "print('Negative Indexing [-2]: ',my_list[-2])\n",
    "\n",
    "# Slicing:\n",
    "print('Slicing [1:4]: ',my_list[1:4])\n",
    "\n",
    "# Negative Indexing & Slicing:\n",
    "print('Negative Indexing & Slicing [:-2]:', my_list[:-2])\n",
    "\n",
    "# Dictionary Referencing:\n",
    "print(\"Matches the exact key ['3']: \",my_dictonary['3'])\n",
    "print('Matches the exact key [3]: ',my_dictonary[3])"
   ]
  },
  {
   "cell_type": "markdown",
   "metadata": {},
   "source": [
    "#### Mutable vs Immutable"
   ]
  },
  {
   "cell_type": "code",
   "execution_count": 6,
   "metadata": {},
   "outputs": [
    {
     "name": "stdout",
     "output_type": "stream",
     "text": [
      "Original list:  [1, [2, 3], (4, 5), False, 'No']\n",
      "Original tuple:  (1, [2, 3], (4, 5), False, 'No')\n",
      "Lists are mutable ['Changed', [2, 3], (4, 5), False, 'No']\n"
     ]
    },
    {
     "ename": "TypeError",
     "evalue": "'tuple' object does not support item assignment",
     "output_type": "error",
     "traceback": [
      "\u001b[0;31m---------------------------------------------------------------------------\u001b[0m",
      "\u001b[0;31mTypeError\u001b[0m                                 Traceback (most recent call last)",
      "\u001b[0;32m<ipython-input-6-d8e29bbd4787>\u001b[0m in \u001b[0;36m<module>\u001b[0;34m()\u001b[0m\n\u001b[1;32m      7\u001b[0m \u001b[0mmy_list\u001b[0m\u001b[0;34m[\u001b[0m\u001b[0;36m0\u001b[0m\u001b[0;34m]\u001b[0m \u001b[0;34m=\u001b[0m \u001b[0;34m'Changed'\u001b[0m\u001b[0;34m\u001b[0m\u001b[0m\n\u001b[1;32m      8\u001b[0m \u001b[0mprint\u001b[0m\u001b[0;34m(\u001b[0m\u001b[0;34m'Lists are mutable'\u001b[0m\u001b[0;34m,\u001b[0m \u001b[0mmy_list\u001b[0m\u001b[0;34m)\u001b[0m\u001b[0;34m\u001b[0m\u001b[0m\n\u001b[0;32m----> 9\u001b[0;31m \u001b[0mmy_tuple\u001b[0m\u001b[0;34m[\u001b[0m\u001b[0;36m0\u001b[0m\u001b[0;34m]\u001b[0m \u001b[0;34m=\u001b[0m \u001b[0;34m'Changed'\u001b[0m\u001b[0;34m\u001b[0m\u001b[0m\n\u001b[0m\u001b[1;32m     10\u001b[0m \u001b[0mprint\u001b[0m\u001b[0;34m(\u001b[0m\u001b[0;34m'Tuples are immmutable'\u001b[0m\u001b[0;34m,\u001b[0m \u001b[0mmy_tuple\u001b[0m\u001b[0;34m)\u001b[0m\u001b[0;34m\u001b[0m\u001b[0m\n",
      "\u001b[0;31mTypeError\u001b[0m: 'tuple' object does not support item assignment"
     ]
    }
   ],
   "source": [
    "my_list = [1,[2,3],(4,5),False,'No']\n",
    "my_tuple = (1,[2,3],(4,5),False,'No')\n",
    "\n",
    "print('Original list: ',my_list)\n",
    "print('Original tuple: ',my_tuple)\n",
    "\n",
    "my_list[0] = 'Changed'\n",
    "print('Lists are mutable', my_list)\n",
    "my_tuple[0] = 'Changed'\n",
    "print('Tuples are immmutable', my_tuple)"
   ]
  },
  {
   "cell_type": "markdown",
   "metadata": {},
   "source": [
    "#### Concatenation, Membership, List comprehension"
   ]
  },
  {
   "cell_type": "code",
   "execution_count": 7,
   "metadata": {},
   "outputs": [
    {
     "name": "stdout",
     "output_type": "stream",
     "text": [
      "a:  [3, 1, 2]\n",
      "b:  [5, 4, 6]\n",
      "Concatenation a+b:  [3, 1, 2, 5, 4, 6]\n",
      "Membership '1 in a':  True\n",
      "Membership '2 in b':  False\n",
      "Membership '2 not in a':  False\n",
      "c:  [1, 2, 3, 4, 5, 6, 7, 8, 9, 10]\n",
      "Iterate over list elements [i for i in c if i%2==0] :  [2, 4, 6, 8, 10]\n"
     ]
    }
   ],
   "source": [
    "# Concatenation:\n",
    "a,b=[3,1,2],[5,4,6]\n",
    "\n",
    "print('a: ',a)\n",
    "print('b: ',b)\n",
    "print('Concatenation a+b: ',a+b)\n",
    "\n",
    "# Membership:\n",
    "print(\"Membership '1 in a': \",1 in a)\n",
    "print(\"Membership '2 in b': \",2 in b)\n",
    "print(\"Membership '2 not in a': \",2 not in a)\n",
    "\n",
    "# List Comprehension:\n",
    "c = range(1,11)\n",
    "print('c: ',list(c))\n",
    "even = [i for i in c if i%2==0]\n",
    "print('Iterate over list elements [i for i in c if i%2==0] : ',even)"
   ]
  },
  {
   "cell_type": "markdown",
   "metadata": {},
   "source": [
    "#### Built in functions:"
   ]
  },
  {
   "cell_type": "code",
   "execution_count": 8,
   "metadata": {},
   "outputs": [
    {
     "name": "stdout",
     "output_type": "stream",
     "text": [
      "Original list:  [2, 4, 6, 8, 10]\n",
      "Length len():  5\n",
      "Max max():  10\n",
      "Min min():  2\n",
      "Sum sum():  30\n",
      "Sorted sorted():  [10, 8, 6, 4, 2]\n"
     ]
    }
   ],
   "source": [
    "print('Original list: ',even)\n",
    "print('Length len(): ',len(even))\n",
    "print('Max max(): ',max(even))\n",
    "print('Min min(): ',min(even))\n",
    "print('Sum sum(): ',sum(even))\n",
    "print('Sorted sorted(): ',sorted(even,reverse=True))"
   ]
  },
  {
   "cell_type": "markdown",
   "metadata": {},
   "source": [
    "#### Activity 1: Create a list of two lists where each one contains tables of 7 & 8 from 1 to 10"
   ]
  },
  {
   "cell_type": "code",
   "execution_count": 9,
   "metadata": {},
   "outputs": [
    {
     "data": {
      "text/plain": [
       "[[7, 14, 21, 28, 35, 42, 49, 56, 63, 70],\n",
       " [8, 16, 24, 32, 40, 48, 56, 64, 72, 80]]"
      ]
     },
     "execution_count": 9,
     "metadata": {},
     "output_type": "execute_result"
    }
   ],
   "source": [
    "[[i*j for j in range(1,11)] for i in range(7,9)]"
   ]
  },
  {
   "cell_type": "markdown",
   "metadata": {},
   "source": [
    "#### Built in methods:\n",
    "\n",
    "#### Activity 2: Write print statement explaining each method in the following cell"
   ]
  },
  {
   "cell_type": "code",
   "execution_count": 10,
   "metadata": {},
   "outputs": [],
   "source": [
    "x = [1, 2, 3]\n",
    "x.append(4)\n",
    "x.append([4])\n",
    "\n",
    "x = [1, 2, 3]\n",
    "x.extend([3])\n",
    "\n",
    "x.index(3)\n",
    "\n",
    "x.count(3)\n",
    "\n",
    "x = [1, 2, 3]\n",
    "x.pop(2)\n",
    "\n",
    "x = [1, 2, 3]\n",
    "x.remove(2)\n",
    "\n",
    "x = [1, 2, 3]\n",
    "x.insert(2,4)\n",
    "\n",
    "x.reverse()"
   ]
  },
  {
   "cell_type": "markdown",
   "metadata": {},
   "source": [
    "### 4. Operators:"
   ]
  },
  {
   "cell_type": "markdown",
   "metadata": {},
   "source": [
    "#### Relational operators:"
   ]
  },
  {
   "cell_type": "code",
   "execution_count": 11,
   "metadata": {},
   "outputs": [
    {
     "name": "stdout",
     "output_type": "stream",
     "text": [
      "10 == 10 True\n",
      "10 != 20 True\n",
      "10 > 10 False\n",
      "10 < 20 True\n",
      "10 <= 10 True\n"
     ]
    }
   ],
   "source": [
    "print(\"10 == 10\", 10 == 10)  # Equal to comparision\n",
    "print(\"10 != 20\", 10 != 20)  # Not equal to comparision\n",
    "print(\"10 > 10\", 10 > 10)    # Greater than\n",
    "print(\"10 < 20\", 10 < 20)    # Smaller than\n",
    "print(\"10 <= 10\", 10 <= 10)  # Smaller OR Equal to"
   ]
  },
  {
   "cell_type": "markdown",
   "metadata": {},
   "source": [
    "#### Logical operators:"
   ]
  },
  {
   "cell_type": "code",
   "execution_count": 12,
   "metadata": {},
   "outputs": [
    {
     "name": "stdout",
     "output_type": "stream",
     "text": [
      "x and y is False\n",
      "x or y is True\n",
      "not x is False\n"
     ]
    }
   ],
   "source": [
    "x = True\n",
    "y = False\n",
    "\n",
    "print('x and y is',x and y)\n",
    "print('x or y is',x or y)\n",
    "print('not x is',not x)"
   ]
  },
  {
   "cell_type": "markdown",
   "metadata": {},
   "source": [
    "### 5. Basic programing constructs:"
   ]
  },
  {
   "cell_type": "markdown",
   "metadata": {},
   "source": [
    "#### Conditional statements:"
   ]
  },
  {
   "cell_type": "code",
   "execution_count": 13,
   "metadata": {},
   "outputs": [
    {
     "name": "stdout",
     "output_type": "stream",
     "text": [
      "Congrats! You passed the course\n"
     ]
    }
   ],
   "source": [
    "passing_marks = 50\n",
    "student_marks = 90\n",
    "\n",
    "if (student_marks > passing_marks):\n",
    "    print(\"Congrats! You passed the course\")\n",
    "else:\n",
    "    print(\"Ahh! You failed\")"
   ]
  },
  {
   "cell_type": "markdown",
   "metadata": {},
   "source": [
    "#### Activity 3: Create a variable 'x' and assign element, based on number of characters or the digits an element has print the following:\n",
    "\n",
    "- If count is less than 4 then print 'len ok'\n",
    "- If count is less than 10 then print 'len med'\n",
    "- If count is less than 15 then print 'len abnormal'"
   ]
  },
  {
   "cell_type": "code",
   "execution_count": 14,
   "metadata": {},
   "outputs": [
    {
     "name": "stdout",
     "output_type": "stream",
     "text": [
      "len abnormal\n"
     ]
    }
   ],
   "source": [
    "x = 7162376125376125\n",
    "len_x = len(list(str(x)))\n",
    "\n",
    "if len_x <4:\n",
    "    print('len ok')\n",
    "elif len_x<10:\n",
    "    print('len med')\n",
    "else:\n",
    "    print('len abnormal')"
   ]
  },
  {
   "cell_type": "markdown",
   "metadata": {},
   "source": [
    "#### Loops:"
   ]
  },
  {
   "cell_type": "markdown",
   "metadata": {},
   "source": [
    "##### While loop:"
   ]
  },
  {
   "cell_type": "code",
   "execution_count": 15,
   "metadata": {},
   "outputs": [
    {
     "name": "stdout",
     "output_type": "stream",
     "text": [
      "3\n",
      "2\n",
      "1\n"
     ]
    }
   ],
   "source": [
    "a=3\n",
    "while(a>0):\n",
    "        print(a)\n",
    "        a-=1"
   ]
  },
  {
   "cell_type": "code",
   "execution_count": 16,
   "metadata": {},
   "outputs": [
    {
     "name": "stdout",
     "output_type": "stream",
     "text": [
      "3\n",
      "2\n",
      "1\n"
     ]
    }
   ],
   "source": [
    "a=3\n",
    "while a>0: print(a); a-=1;"
   ]
  },
  {
   "cell_type": "code",
   "execution_count": 17,
   "metadata": {},
   "outputs": [
    {
     "name": "stdout",
     "output_type": "stream",
     "text": [
      "3\n",
      "2\n"
     ]
    }
   ],
   "source": [
    "a=3\n",
    "while(a>0):\n",
    "    print(a)\n",
    "    a-=1\n",
    "    if a==1: \n",
    "        break"
   ]
  },
  {
   "cell_type": "code",
   "execution_count": 18,
   "metadata": {},
   "outputs": [
    {
     "name": "stdout",
     "output_type": "stream",
     "text": [
      "1\n",
      "2\n",
      "3\n",
      "4\n",
      "5\n",
      "7\n",
      "8\n"
     ]
    }
   ],
   "source": [
    "i=0\n",
    "while(i<8):\n",
    "    i+=1\n",
    "    if(i==6): continue\n",
    "    print(i)"
   ]
  },
  {
   "cell_type": "markdown",
   "metadata": {},
   "source": [
    "##### For loop:"
   ]
  },
  {
   "cell_type": "code",
   "execution_count": 19,
   "metadata": {},
   "outputs": [
    {
     "name": "stdout",
     "output_type": "stream",
     "text": [
      "Romanian\n",
      "Spanish\n",
      "Gujarati\n"
     ]
    }
   ],
   "source": [
    "list=['Romanian','Spanish','Gujarati']\n",
    "for i in range(len(list)):\n",
    "    print(list[i])"
   ]
  },
  {
   "cell_type": "code",
   "execution_count": 20,
   "metadata": {},
   "outputs": [
    {
     "name": "stdout",
     "output_type": "stream",
     "text": [
      "b\n",
      "r\n",
      "e\n",
      "a\n"
     ]
    }
   ],
   "source": [
    "for i in 'break':\n",
    "        print(i)\n",
    "        if i=='a': break;"
   ]
  },
  {
   "cell_type": "code",
   "execution_count": 21,
   "metadata": {},
   "outputs": [
    {
     "name": "stdout",
     "output_type": "stream",
     "text": [
      "1 cat\n",
      "2 dog\n",
      "3 monkey\n"
     ]
    }
   ],
   "source": [
    "animals = ['cat', 'dog', 'monkey']\n",
    "animals_id = []\n",
    "for idx, animal in enumerate(animals):\n",
    "    print(idx+1,animal)\n",
    "    animals_id.append((idx+1,animal))"
   ]
  },
  {
   "cell_type": "code",
   "execution_count": 22,
   "metadata": {},
   "outputs": [
    {
     "name": "stdout",
     "output_type": "stream",
     "text": [
      "person\n",
      "cat\n",
      "spider\n",
      "2\n",
      "4\n",
      "8\n",
      "A person has 2 legs\n",
      "A cat has 4 legs\n",
      "A spider has 8 legs\n"
     ]
    }
   ],
   "source": [
    "d = {'person': 2, 'cat': 4, 'spider': 8}\n",
    "\n",
    "# A simple for loop iterates through keys by default\n",
    "for animal in d:           \n",
    "    print(animal)\n",
    "    \n",
    "# dictionary.values() will iterate through values\n",
    "for animal in d.values():  \n",
    "    print(animal)\n",
    "    \n",
    "# dictionary.items() will give you key value pairs\n",
    "for animal, legs in d.items():              \n",
    "    print('A', animal, 'has', legs, 'legs')"
   ]
  },
  {
   "cell_type": "markdown",
   "metadata": {},
   "source": [
    "#### Activity 4: Create a object 'n' that, assign any integer value between 1 to 10\n",
    "\n",
    "- Use for loop and iterate the loop 'n' times and print number of '*' equal to iteration number\n",
    "- Use while loop and iterate the loop 'n' times and print number of '*' equal to iteration number"
   ]
  },
  {
   "cell_type": "code",
   "execution_count": 23,
   "metadata": {},
   "outputs": [
    {
     "name": "stdout",
     "output_type": "stream",
     "text": [
      "* \n",
      "* * \n",
      "* * * \n",
      "* * * * \n",
      "* * * * * \n",
      "* * * * * * \n",
      "* * * * * * * \n",
      "* * * * * * * * \n",
      "* * * * * * * * * \n",
      "* * * * * * * * * * \n"
     ]
    }
   ],
   "source": [
    "n = 10\n",
    "for i in range(1,n+1):\n",
    "    for j in range(i):\n",
    "        print(\"*\",end=' ')\n",
    "    print()"
   ]
  },
  {
   "cell_type": "code",
   "execution_count": 24,
   "metadata": {},
   "outputs": [
    {
     "name": "stdout",
     "output_type": "stream",
     "text": [
      "\n",
      "* \n",
      "* * \n",
      "* * * \n",
      "* * * * \n",
      "* * * * * \n",
      "* * * * * * \n"
     ]
    }
   ],
   "source": [
    "n=6\n",
    "n+=1\n",
    "m=n\n",
    "while(n>0):\n",
    "    j=m\n",
    "    while(j>n):\n",
    "        print(\"*\",end=' ')\n",
    "        j-=1\n",
    "    n-=1\n",
    "    print()"
   ]
  },
  {
   "cell_type": "markdown",
   "metadata": {},
   "source": [
    "#### Functions:"
   ]
  },
  {
   "cell_type": "code",
   "execution_count": 25,
   "metadata": {},
   "outputs": [
    {
     "name": "stdout",
     "output_type": "stream",
     "text": [
      "negative\n",
      "zero\n",
      "positive\n"
     ]
    }
   ],
   "source": [
    "def sign(x):\n",
    "    if x > 0:\n",
    "        return 'positive'\n",
    "    elif x < 0:\n",
    "        return 'negative'\n",
    "    else:\n",
    "        return 'zero'\n",
    "\n",
    "for x in [-1, 0, 1]:\n",
    "    print (sign(x))"
   ]
  },
  {
   "cell_type": "code",
   "execution_count": 26,
   "metadata": {},
   "outputs": [
    {
     "name": "stdout",
     "output_type": "stream",
     "text": [
      "Hello, Bob!\n",
      "HELLO, FRED\n"
     ]
    }
   ],
   "source": [
    "def hello(name, loud=False):\n",
    "    if loud:\n",
    "        print ('HELLO, %s' % name.upper())\n",
    "    else:\n",
    "        print ('Hello, %s!' % name)\n",
    "\n",
    "hello('Bob')\n",
    "hello('Fred', loud=True)"
   ]
  },
  {
   "cell_type": "markdown",
   "metadata": {},
   "source": [
    "#### Activity 5: Write a program which can compute the factorial of a given numbers"
   ]
  },
  {
   "cell_type": "code",
   "execution_count": 27,
   "metadata": {},
   "outputs": [],
   "source": [
    "def fact(x):\n",
    "    if x == 0:\n",
    "        return 1\n",
    "    return x * fact(x - 1)"
   ]
  },
  {
   "cell_type": "code",
   "execution_count": 28,
   "metadata": {},
   "outputs": [
    {
     "data": {
      "text/plain": [
       "3628800"
      ]
     },
     "execution_count": 28,
     "metadata": {},
     "output_type": "execute_result"
    }
   ],
   "source": [
    "fact(10)"
   ]
  },
  {
   "cell_type": "markdown",
   "metadata": {},
   "source": [
    "### Decorators\n",
    "https://www.python-course.eu/python3_decorators.php"
   ]
  },
  {
   "cell_type": "code",
   "execution_count": 21,
   "metadata": {},
   "outputs": [
    {
     "name": "stdout",
     "output_type": "stream",
     "text": [
      "An instance of A was initialized\n",
      "Arguments are: (3, 4) {'x': 11, 'y': 10}\n"
     ]
    }
   ],
   "source": [
    "class A:\n",
    "    def __init__(self):\n",
    "        print(\"An instance of A was initialized\")\n",
    "    \n",
    "    def __call__(self, *args, **kwargs):\n",
    "        print(\"Arguments are:\", args, kwargs)\n",
    "              \n",
    "x = A()\n",
    "\n",
    "x(3, 4, x=11, y=10)"
   ]
  },
  {
   "cell_type": "code",
   "execution_count": 20,
   "metadata": {},
   "outputs": [
    {
     "name": "stdout",
     "output_type": "stream",
     "text": [
      "0, 1, 1, 2, 3, 5, 8, 13, 21, 34, 55, 89, 144, 233, 377, "
     ]
    }
   ],
   "source": [
    "class Fibonacci:\n",
    "    def __init__(self):\n",
    "        self.cache = {}\n",
    "\n",
    "    def __call__(self, n):\n",
    "        if n not in self.cache:\n",
    "            if n == 0:\n",
    "                self.cache[0] = 0\n",
    "            elif n == 1:\n",
    "                self.cache[1] = 1\n",
    "            else:\n",
    "                self.cache[n] = self.__call__(n-1) + self.__call__(n-2)\n",
    "        return self.cache[n]\n",
    "\n",
    "fib = Fibonacci()\n",
    "\n",
    "for i in range(15):\n",
    "    print(fib(i), end=\", \")"
   ]
  },
  {
   "cell_type": "code",
   "execution_count": 19,
   "metadata": {},
   "outputs": [
    {
     "name": "stdout",
     "output_type": "stream",
     "text": [
      "0\n"
     ]
    }
   ],
   "source": [
    "def arg_checker(func):\n",
    "    def wrapper(x):\n",
    "        if x >= 0:\n",
    "            return func(x)\n",
    "        else:\n",
    "            raise Exception(\"X less than 0\")\n",
    "    return wrapper\n",
    "\n",
    "@arg_checker\n",
    "def print_x(x):\n",
    "    print(x)\n",
    "    return\n",
    "\n",
    "print_x(0)"
   ]
  },
  {
   "cell_type": "code",
   "execution_count": null,
   "metadata": {},
   "outputs": [],
   "source": [
    "# def arg_checker(func):\n",
    "#     def wrapper(*args, **kwargs):\n",
    "#         import pdb; pdb.set_trace()\n",
    "#         for arg in args:\n",
    "#             for a in arg:\n",
    "#                 if a>=0:\n",
    "#                     return func(x)\n",
    "#                 else:\n",
    "#                     raise Exception(\"Argument is less than 0\")\n",
    "#     return wrapper\n",
    "\n",
    "# @arg_checker\n",
    "# def print_x(x):\n",
    "#     print(x)\n",
    "#     return\n",
    "\n",
    "# print_x([0,1,2,3])"
   ]
  }
 ],
 "metadata": {
  "kernelspec": {
   "display_name": "Python 3",
   "language": "python",
   "name": "python3"
  },
  "language_info": {
   "codemirror_mode": {
    "name": "ipython",
    "version": 3
   },
   "file_extension": ".py",
   "mimetype": "text/x-python",
   "name": "python",
   "nbconvert_exporter": "python",
   "pygments_lexer": "ipython3",
   "version": "3.6.9"
  }
 },
 "nbformat": 4,
 "nbformat_minor": 2
}
